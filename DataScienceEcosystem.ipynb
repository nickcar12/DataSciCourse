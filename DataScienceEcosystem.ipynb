{
 "cells": [
  {
   "cell_type": "markdown",
   "id": "cfc6f9ab",
   "metadata": {},
   "source": [
    "# Data Science Tools and Ecosystem"
   ]
  },
  {
   "cell_type": "markdown",
   "id": "b9f330c1",
   "metadata": {},
   "source": [
    "Summarzing the Data Science Tools and Ecosytems in this notebook"
   ]
  },
  {
   "cell_type": "markdown",
   "id": "8a6530f9",
   "metadata": {},
   "source": [
    "Popular data science languages:"
   ]
  },
  {
   "cell_type": "markdown",
   "id": "bd2039df",
   "metadata": {},
   "source": [
    " 1. Python\n",
    "    2. R\n",
    "    3. Julia\n",
    "    4. SQL"
   ]
  },
  {
   "cell_type": "markdown",
   "id": "1cd39196",
   "metadata": {},
   "source": [
    "Commonly used libraries in data science"
   ]
  },
  {
   "cell_type": "markdown",
   "id": "9171b1f1",
   "metadata": {},
   "source": [
    "1. Pandas\n",
    "2. Matplotlib\n",
    "3. Scikit-learn\n",
    "4. ggplot2\n",
    "5. carat "
   ]
  },
  {
   "cell_type": "markdown",
   "id": "44dccf86",
   "metadata": {},
   "source": [
    "| Data Science Tools |\n",
    "| ------------------ |\n",
    "| My SQL |\n",
    "| Kibana |\n",
    "| ModuleDB |"
   ]
  },
  {
   "cell_type": "markdown",
   "id": "4d6e83d4",
   "metadata": {},
   "source": [
    "### Below are a few examples of evaluating artithmetic expressions in Python"
   ]
  },
  {
   "cell_type": "code",
   "execution_count": null,
   "id": "25a6b711",
   "metadata": {},
   "outputs": [],
   "source": [
    "# This is a simple artithmetic expression to multiply then add integers"
   ]
  },
  {
   "cell_type": "code",
   "execution_count": 2,
   "id": "5e41d8f0",
   "metadata": {},
   "outputs": [
    {
     "data": {
      "text/plain": [
       "17"
      ]
     },
     "execution_count": 2,
     "metadata": {},
     "output_type": "execute_result"
    }
   ],
   "source": [
    "(3*4)+5"
   ]
  },
  {
   "cell_type": "code",
   "execution_count": null,
   "id": "d4ce8e2d",
   "metadata": {},
   "outputs": [],
   "source": [
    "# This will convert 200 minutes to hours by dividing by 60"
   ]
  },
  {
   "cell_type": "code",
   "execution_count": 3,
   "id": "cb6d441f",
   "metadata": {},
   "outputs": [
    {
     "data": {
      "text/plain": [
       "3.3333333333333335"
      ]
     },
     "execution_count": 3,
     "metadata": {},
     "output_type": "execute_result"
    }
   ],
   "source": [
    "200/60"
   ]
  },
  {
   "cell_type": "code",
   "execution_count": null,
   "id": "14019c02",
   "metadata": {},
   "outputs": [],
   "source": [
    "# Objectives:"
   ]
  },
  {
   "cell_type": "markdown",
   "id": "7788c907",
   "metadata": {},
   "source": [
    "- R\n",
    "- Python\n",
    "- Scala\n",
    "- Java"
   ]
  },
  {
   "cell_type": "code",
   "execution_count": null,
   "id": "41370769",
   "metadata": {},
   "outputs": [],
   "source": []
  },
  {
   "cell_type": "markdown",
   "id": "53e70aa9",
   "metadata": {},
   "source": [
    "## Author\n",
    "Nick Carella"
   ]
  }
 ],
 "metadata": {
  "kernelspec": {
   "display_name": "Python 3 (ipykernel)",
   "language": "python",
   "name": "python3"
  },
  "language_info": {
   "codemirror_mode": {
    "name": "ipython",
    "version": 3
   },
   "file_extension": ".py",
   "mimetype": "text/x-python",
   "name": "python",
   "nbconvert_exporter": "python",
   "pygments_lexer": "ipython3",
   "version": "3.10.11"
  }
 },
 "nbformat": 4,
 "nbformat_minor": 5
}
